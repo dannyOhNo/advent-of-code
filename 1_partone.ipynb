{
 "cells": [
  {
   "cell_type": "code",
   "execution_count": null,
   "id": "b7a13b76-6bab-4584-9ab9-d58cdae2786b",
   "metadata": {},
   "outputs": [],
   "source": [
    "# On each line, the calibration value can be found by combining the first digit \n",
    "# and the last digit (in that order) to form a single two-digit number.\n",
    "# Consider your entire calibration document. What is the sum of all of the calibration values?\n",
    "# If the sequence only has one number, it counts twice, e.g. trebu7chet = 77\n",
    "# one2seven=22"
   ]
  },
  {
   "cell_type": "code",
   "execution_count": 26,
   "id": "8902e246-2428-441e-ac78-ad2154f10b9d",
   "metadata": {},
   "outputs": [
    {
     "name": "stdout",
     "output_type": "stream",
     "text": [
      "54630\n"
     ]
    }
   ],
   "source": [
    "\n",
    "class Matcher(object):\n",
    "    \n",
    "    def __init__(self):\n",
    "        self.number_arr = []\n",
    "\n",
    "    def load_file(self):\n",
    "        with open(\"inputs/1.txt\", \"r\") as f:\n",
    "            l = f.read()\n",
    "        self.number_arr = l.split(\"\\n\")\n",
    "        \n",
    "    @staticmethod\n",
    "    def is_int(x):\n",
    "        \"\"\"\n",
    "        If it's an int, return true. Else try to convert to int, and return True. Else return False.\n",
    "        \"\"\"\n",
    "        if isinstance(x, int):\n",
    "            return True\n",
    "        try:\n",
    "            xi = int(x)\n",
    "            return True\n",
    "        except ValueError:\n",
    "            return False\n",
    "\n",
    "    @staticmethod\n",
    "    def extract_digits(ns):\n",
    "        na = []\n",
    "        for s in ns:\n",
    "            if Matcher.is_int(s):\n",
    "                na.append(int(s))\n",
    "        \n",
    "        return na\n",
    "                \n",
    "        \n",
    "    @staticmethod\n",
    "    def digits_str_combine(digits):\n",
    "        if len(digits) == 1:\n",
    "            s = str(digits[0])\n",
    "            s = s * 2\n",
    "\n",
    "        else:\n",
    "            s = str(digits[0]) + str(digits[-1])\n",
    "        return int(s)\n",
    "        \n",
    "    \n",
    "    def run(self):\n",
    "        sum = 0\n",
    "        results = []\n",
    "        \n",
    "        self.load_file()\n",
    "     \n",
    "        for n in self.number_arr:\n",
    "            digits = Matcher.extract_digits(n)\n",
    "            result = Matcher.digits_str_combine(digits)\n",
    "            results.append(result)\n",
    "            sum += result\n",
    "       \n",
    "        print(sum)\n",
    "\n",
    "\n",
    "\n",
    "m = Matcher()\n",
    "m.run()"
   ]
  }
 ],
 "metadata": {
  "kernelspec": {
   "display_name": "venv3",
   "language": "python",
   "name": "venv3"
  },
  "language_info": {
   "codemirror_mode": {
    "name": "ipython",
    "version": 3
   },
   "file_extension": ".py",
   "mimetype": "text/x-python",
   "name": "python",
   "nbconvert_exporter": "python",
   "pygments_lexer": "ipython3",
   "version": "3.9.12"
  }
 },
 "nbformat": 4,
 "nbformat_minor": 5
}
