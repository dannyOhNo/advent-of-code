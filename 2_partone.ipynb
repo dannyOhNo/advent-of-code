{
 "cells": [
  {
   "cell_type": "markdown",
   "metadata": {},
   "source": [
    "\n",
    "Determine which games would have been possible if the bag had been loaded with only 12 red cubes, 13 green cubes, and 14 blue cubes. What is the sum of the IDs of those games?\n",
    "\n",
    "- Game 1: 4 blue, 4 red, 16 green; 14 green, 5 red; 1 blue, 3 red, 5 green\n",
    "- Game 2: 3 green, 8 red, 1 blue; 5 green, 6 blue; 4 green, 4 blue, 10 red; 2 green, 6 red, 4 blue; 8 red, 11 blue, 4 green; 10 red, 10 blue\n",
    "- Game 3: 7 blue, 2 green; 9 blue, 2 green, 4 red; 5 blue, 2 red; 1 red, 1 green, 10 blue; 1 green, 5 blue, 1 red"
   ]
  },
  {
   "cell_type": "code",
   "execution_count": 42,
   "metadata": {},
   "outputs": [
    {
     "name": "stdout",
     "output_type": "stream",
     "text": [
      "Sum of legal game IDs: 2156\n"
     ]
    }
   ],
   "source": [
    "class Matcher(object):\n",
    "    \n",
    "    def __init__(self):\n",
    "       self.load_file()\n",
    "       self.sum_of_legal_game_ids = 0\n",
    "\n",
    "       self.max_values = {\n",
    "           \"red\": 12,\n",
    "           \"green\": 13,\n",
    "           \"blue\": 14\n",
    "       }\n",
    "    \n",
    "\n",
    "    def load_file(self):\n",
    "        \"\"\"\n",
    "        Load file return array with all test inputs\n",
    "        \"\"\"\n",
    "        with open(\"inputs/2.txt\", \"r\") as f:\n",
    "            l = f.read()\n",
    "        self.input_arr = l.split(\"\\n\")\n",
    "\n",
    "    def get_game_values(self, roll):\n",
    "        result = {}\n",
    "        for r in roll.split(\",\"):\n",
    "            r = r.strip()\n",
    "            rs = r.split(\" \")\n",
    "            result[rs[1]] = int(rs[0])\n",
    "        return result\n",
    "    \n",
    "    def check_against_max_values(self, roll):\n",
    "        for k,v in roll.items():\n",
    "            if v > self.max_values[k]:\n",
    "                return False\n",
    "        return True\n",
    "\n",
    "    def parse_line(self, line):\n",
    "        # Game 1: 4 blue, 4 red, 16 green; 14 green, 5 red; 1 blue, 3 red, 5 green\n",
    "        parsed = {}\n",
    "\n",
    "        game = line.split(\"Game \")[1].split(\":\")\n",
    "        game_number = game[0]\n",
    "\n",
    "        game_removed = line.split(\":\")[1] # Get the line without the game info\n",
    "        rolls = game_removed.strip().split(\";\")\n",
    "        \n",
    "        for r in rolls:\n",
    "            parsed = self.get_game_values(r)\n",
    "            is_legal = self.check_against_max_values(parsed)\n",
    "            if not is_legal:\n",
    "                return\n",
    "        self.sum_of_legal_game_ids += int(game_number)\n",
    "\n",
    "    def run(self):\n",
    "        for line in self.input_arr:\n",
    "            self.parse_line(line)\n",
    "        print(\"Sum of legal game IDs:\", self.sum_of_legal_game_ids)\n",
    "\n",
    "\n",
    "m = Matcher()\n",
    "m.run()"
   ]
  }
 ],
 "metadata": {
  "kernelspec": {
   "display_name": "venv3",
   "language": "python",
   "name": "venv3"
  },
  "language_info": {
   "codemirror_mode": {
    "name": "ipython",
    "version": 3
   },
   "file_extension": ".py",
   "mimetype": "text/x-python",
   "name": "python",
   "nbconvert_exporter": "python",
   "pygments_lexer": "ipython3",
   "version": "3.9.12"
  }
 },
 "nbformat": 4,
 "nbformat_minor": 5
}
